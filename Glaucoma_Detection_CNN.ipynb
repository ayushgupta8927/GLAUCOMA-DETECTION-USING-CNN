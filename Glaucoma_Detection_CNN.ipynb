{
  "nbformat": 4,
  "nbformat_minor": 0,
  "metadata": {
    "accelerator": "GPU",
    "colab": {
      "name": "Revised_GlaucomaTest(Don't_touch).ipynb",
      "provenance": [],
      "collapsed_sections": []
    },
    "kernelspec": {
      "display_name": "Python 3",
      "language": "python",
      "name": "python3"
    },
    "language_info": {
      "codemirror_mode": {
        "name": "ipython",
        "version": 3
      },
      "file_extension": ".py",
      "mimetype": "text/x-python",
      "name": "python",
      "nbconvert_exporter": "python",
      "pygments_lexer": "ipython3",
      "version": "3.8.6rc1"
    }
  },
  "cells": [
    {
      "cell_type": "markdown",
      "metadata": {
        "id": "MrbNWZzHiu9_"
      },
      "source": [
        "# **ACCESSING DRIVE**\r\n",
        "\r\n"
      ]
    },
    {
      "cell_type": "code",
      "metadata": {
        "id": "0citrj2JWU-h"
      },
      "source": [
        "from google.colab import drive\n",
        "drive.mount('/content/drive')"
      ],
      "execution_count": null,
      "outputs": []
    },
    {
      "cell_type": "markdown",
      "metadata": {
        "id": "LXgjVInuiojE"
      },
      "source": [
        "# **GETTING DATASET**"
      ]
    },
    {
      "cell_type": "code",
      "metadata": {
        "colab": {
          "base_uri": "https://localhost:8080/"
        },
        "id": "L8OsbAmhWqP-",
        "outputId": "4a85c7e3-2d7b-4f86-92a7-077b0a25fcaf"
      },
      "source": [
        "import os\n",
        "print(os.listdir((\"/content/drive/My Drive/Colab Notebooks/dataset\")))"
      ],
      "execution_count": null,
      "outputs": [
        {
          "output_type": "stream",
          "text": [
            "['test', 'train']\n"
          ],
          "name": "stdout"
        }
      ]
    },
    {
      "cell_type": "markdown",
      "metadata": {
        "id": "RWJ7bBMcjqEM"
      },
      "source": [
        "## **IMPORTING LIBRARIES AND APPLYING CONVOLUTIONS**\r\n"
      ]
    },
    {
      "cell_type": "code",
      "metadata": {
        "id": "eIjxmKzsWqYB"
      },
      "source": [
        "from keras.models import Sequential\n",
        "from keras.layers import Conv2D\n",
        "from keras.layers import MaxPooling2D\n",
        "from keras.layers import Flatten\n",
        "from keras.layers import Dense\n",
        "import tensorflow as tf\n",
        "from tensorflow.keras.optimizers import RMSprop\n",
        "# Initialising the CNN\n",
        "classifier = Sequential()\n",
        "# Step 1 - Convolution\n",
        "classifier.add(Conv2D(32, (3, 3), input_shape = (256,256, 3), activation = 'relu'))\n",
        "# Step 2 - Pooling\n",
        "classifier.add(MaxPooling2D(pool_size = (2, 2)))\n",
        "# Adding a second convolutional layer\n",
        "#classifier.add(Conv2D(64, (3, 3), activation = 'relu'))\n",
        "#classifier.add(MaxPooling2D(pool_size = (2, 2)))\n",
        "classifier.add(Conv2D(128, (3, 3), activation = 'relu'))\n",
        "classifier.add(MaxPooling2D(pool_size = (2, 2)))\n",
        "'''classifier.add(Conv2D(256, (3, 3), activation = 'relu'))\n",
        "classifier.add(MaxPooling2D(pool_size = (2, 2)))'''\n",
        "#tf.keras.layers.Dropout(0.2)\n",
        "# Step 3 - Flattening\n",
        "classifier.add(Flatten())\n",
        
        "classifier.add(Dense(units = 512, activation = 'relu'))\n",
        "classifier.add(Dense(units = 1, activation = 'sigmoid'))\n",
        "# Compiling the CNN\n",
        "classifier.compile(optimizer = 'adam', loss = 'binary_crossentropy', metrics = ['accuracy'])"
      ],
      "execution_count": null,
      "outputs": []
    },
    {
      "cell_type": "markdown",
      "metadata": {
        "id": "QrHPYZ2VkFjT"
      },
      "source": [
        "## **GETTING THE IMAGES**"
      ]
    },
    {
      "cell_type": "code",
      "metadata": {
        "colab": {
          "base_uri": "https://localhost:8080/"
        },
        "id": "QPmdewLQWqcw",
        "outputId": "33dcf171-0186-49fa-dbff-7014c4caee29"
      },
      "source": [
        "from keras.preprocessing.image import ImageDataGenerator\n",
        "train_datagen = ImageDataGenerator(rescale = 1./255,\n",
        "shear_range = 0.2,\n",
        "zoom_range = 0.2,\n",
        "horizontal_flip = True)\n",
        "# print(train_datagen)\n",
        "test_datagen = ImageDataGenerator(rescale = 1./255)\n",
        "training_set = train_datagen.flow_from_directory('/content/drive/My Drive/Colab Notebooks/dataset/train',\n",
        "target_size = (256,256),\n",
        "batch_size = 32,\n",
        "class_mode = 'binary')\n",
        "# print(test_datagen)\n",
        "test_set = test_datagen.flow_from_directory('/content/drive/My Drive/Colab Notebooks/dataset/test',\n",
        "target_size = (256,256),\n",
        "batch_size = 32,\n",
        "class_mode = 'binary')"
      ],
      "execution_count": null,
      "outputs": [
        {
          "output_type": "stream",
          "text": [
            "Found 455 images belonging to 2 classes.\n",
            "Found 64 images belonging to 2 classes.\n"
          ],
          "name": "stdout"
        }
      ]
    },
    {
      "cell_type": "markdown",
      "metadata": {
        "id": "2E8oXiiZkP0r"
      },
      "source": [
        "## **RUNNING THE MODEL**"
      ]
    },
    {
      "cell_type": "code",
      "metadata": {
        "colab": {
          "base_uri": "https://localhost:8080/"
        },
        "id": "1CXpZx3AWqjm",
        "outputId": "fe071eb4-ed9b-4d89-c3cf-d7a036369e56"
      },
      "source": [
        "batch_size=32\n",
        "history=classifier.fit(training_set,\n",
        "steps_per_epoch = 455/batch_size,\n",
        "epochs = 30,\n",
        "validation_data = test_set,\n",
        "validation_steps = 64/batch_size)"
      ],
      "execution_count": null,
      "outputs": [
        {
          "output_type": "stream",
          "text": [
            "Epoch 1/30\n",
            "14/14 [==============================] - 12s 652ms/step - loss: 13.7559 - accuracy: 0.4337 - val_loss: 0.7811 - val_accuracy: 0.5000\n",
            "Epoch 2/30\n",
            "14/14 [==============================] - 9s 648ms/step - loss: 0.6846 - accuracy: 0.5336 - val_loss: 0.6697 - val_accuracy: 0.5469\n",
            "Epoch 3/30\n",
            "14/14 [==============================] - 9s 639ms/step - loss: 0.6408 - accuracy: 0.6440 - val_loss: 0.6057 - val_accuracy: 0.7031\n",
            "Epoch 4/30\n",
            "14/14 [==============================] - 9s 664ms/step - loss: 0.5799 - accuracy: 0.6961 - val_loss: 0.6024 - val_accuracy: 0.6406\n",
            "Epoch 5/30\n",
            "14/14 [==============================] - 9s 692ms/step - loss: 0.5112 - accuracy: 0.7440 - val_loss: 0.5767 - val_accuracy: 0.7031\n",
            "Epoch 6/30\n",
            "14/14 [==============================] - 9s 648ms/step - loss: 0.4888 - accuracy: 0.7641 - val_loss: 0.5761 - val_accuracy: 0.7344\n",
            "Epoch 7/30\n",
            "14/14 [==============================] - 9s 649ms/step - loss: 0.4805 - accuracy: 0.7671 - val_loss: 0.5091 - val_accuracy: 0.7031\n",
            "Epoch 8/30\n",
            "14/14 [==============================] - 9s 654ms/step - loss: 0.4373 - accuracy: 0.8058 - val_loss: 0.4584 - val_accuracy: 0.7812\n",
            "Epoch 9/30\n",
            "14/14 [==============================] - 9s 649ms/step - loss: 0.4949 - accuracy: 0.7535 - val_loss: 0.4676 - val_accuracy: 0.7344\n",
            "Epoch 10/30\n",
            "14/14 [==============================] - 9s 649ms/step - loss: 0.3932 - accuracy: 0.8389 - val_loss: 0.5132 - val_accuracy: 0.7812\n",
            "Epoch 11/30\n",
            "14/14 [==============================] - 9s 645ms/step - loss: 0.5274 - accuracy: 0.7488 - val_loss: 0.4469 - val_accuracy: 0.8125\n",
            "Epoch 12/30\n",
            "14/14 [==============================] - 9s 648ms/step - loss: 0.4457 - accuracy: 0.7901 - val_loss: 0.3850 - val_accuracy: 0.8125\n",
            "Epoch 13/30\n",
            "14/14 [==============================] - 9s 647ms/step - loss: 0.3660 - accuracy: 0.8285 - val_loss: 0.3809 - val_accuracy: 0.8281\n",
            "Epoch 14/30\n",
            "14/14 [==============================] - 9s 643ms/step - loss: 0.3682 - accuracy: 0.8505 - val_loss: 0.3645 - val_accuracy: 0.8594\n",
            "Epoch 15/30\n",
            "14/14 [==============================] - 9s 654ms/step - loss: 0.3479 - accuracy: 0.8705 - val_loss: 0.3350 - val_accuracy: 0.8594\n",
            "Epoch 16/30\n",
            "14/14 [==============================] - 9s 654ms/step - loss: 0.4153 - accuracy: 0.8090 - val_loss: 0.3836 - val_accuracy: 0.8125\n",
            "Epoch 17/30\n",
            "14/14 [==============================] - 9s 649ms/step - loss: 0.4626 - accuracy: 0.8065 - val_loss: 0.3363 - val_accuracy: 0.8281\n",
            "Epoch 18/30\n",
            "14/14 [==============================] - 9s 654ms/step - loss: 0.3679 - accuracy: 0.8396 - val_loss: 0.3153 - val_accuracy: 0.8750\n",
            "Epoch 19/30\n",
            "14/14 [==============================] - 9s 648ms/step - loss: 0.3689 - accuracy: 0.8397 - val_loss: 0.3453 - val_accuracy: 0.8281\n",
            "Epoch 20/30\n",
            "14/14 [==============================] - 9s 643ms/step - loss: 0.3797 - accuracy: 0.8426 - val_loss: 0.2825 - val_accuracy: 0.8906\n",
            "Epoch 21/30\n",
            "14/14 [==============================] - 9s 647ms/step - loss: 0.3605 - accuracy: 0.8225 - val_loss: 0.3214 - val_accuracy: 0.8750\n",
            "Epoch 22/30\n",
            "14/14 [==============================] - 9s 646ms/step - loss: 0.3297 - accuracy: 0.8751 - val_loss: 0.2602 - val_accuracy: 0.8906\n",
            "Epoch 23/30\n",
            "14/14 [==============================] - 9s 647ms/step - loss: 0.3182 - accuracy: 0.8862 - val_loss: 0.2493 - val_accuracy: 0.9062\n",
            "Epoch 24/30\n",
            "14/14 [==============================] - 9s 652ms/step - loss: 0.2854 - accuracy: 0.8825 - val_loss: 0.2556 - val_accuracy: 0.8906\n",
            "Epoch 25/30\n",
            "14/14 [==============================] - 9s 656ms/step - loss: 0.3218 - accuracy: 0.8824 - val_loss: 0.2844 - val_accuracy: 0.9219\n",
            "Epoch 26/30\n",
            "14/14 [==============================] - 9s 643ms/step - loss: 0.3174 - accuracy: 0.8799 - val_loss: 0.2624 - val_accuracy: 0.9062\n",
            "Epoch 27/30\n",
            "14/14 [==============================] - 9s 650ms/step - loss: 0.2647 - accuracy: 0.8992 - val_loss: 0.2474 - val_accuracy: 0.9062\n",
            "Epoch 28/30\n",
            "14/14 [==============================] - 9s 652ms/step - loss: 0.2685 - accuracy: 0.8908 - val_loss: 0.2706 - val_accuracy: 0.9219\n",
            "Epoch 29/30\n",
            "14/14 [==============================] - 9s 651ms/step - loss: 0.2968 - accuracy: 0.8654 - val_loss: 0.2210 - val_accuracy: 0.9375\n",
            "Epoch 30/30\n",
            "14/14 [==============================] - 9s 648ms/step - loss: 0.2535 - accuracy: 0.9058 - val_loss: 0.1880 - val_accuracy: 0.9531\n"
          ],
          "name": "stdout"
        }
      ]
    },
    {
      "cell_type": "markdown",
      "metadata": {
        "id": "zhqgGGIkkT8b"
      },
      "source": [
        "## **PLOTTING GRAPH**"
      ]
    },
    {
      "cell_type": "code",
      "metadata": {
        "colab": {
          "base_uri": "https://localhost:8080/",
          "height": 298
        },
        "id": "7rGZgEk4EpzY",
        "outputId": "a95ad0dd-bba3-49a0-e1ce-ed4246dee9e2"
      },
      "source": [
        "import matplotlib.pyplot as plt\r\n",
        "\r\n",
        "acc = history.history['accuracy']\r\n",
        "val_acc = history.history['val_accuracy']\r\n",
        "loss = history.history['loss']\r\n",
        "val_loss = history.history['val_loss']\r\n",
        "\r\n",
        "epochs = range(len(acc))\r\n",
        "\r\n",
        "plt.plot(epochs, acc, 'r', label='Training accuracy')\r\n",
        "plt.plot(epochs, val_acc, 'b', label='Validation accuracy')\r\n",
        "plt.title('Training and validation accuracy')\r\n",
        "plt.legend(loc=0)\r\n",
        "plt.figure()\r\n",
        "\r\n",
        "plt.show()"
      ],
      "execution_count": null,
      "outputs": [
        {
          "output_type": "display_data",
          "data": {
            "image/png": "[encoded data removed]",
            "text/plain": [
              "<Figure size 432x288 with 1 Axes>"
            ]
          },
          "metadata": {
            "tags": [],
            "needs_background": "light"
          }
        },
        {
          "output_type": "display_data",
          "data": {
            "text/plain": [
              "<Figure size 432x288 with 0 Axes>"
            ]
          },
          "metadata": {
            "tags": []
          }
        }
      ]
    }
  ]
}
